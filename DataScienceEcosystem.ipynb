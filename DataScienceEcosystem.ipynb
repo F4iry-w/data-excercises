{
 "cells": [
  {
   "cell_type": "markdown",
   "id": "4498eb47-6916-4626-b81d-7522c700631e",
   "metadata": {},
   "source": [
    "# Data Science Tools and Ecosystem"
   ]
  },
  {
   "cell_type": "markdown",
   "id": "2fe7bb6e-059f-4197-8d32-94e5b69aeafa",
   "metadata": {},
   "source": [
    "## In this notebook, Data Science Tools and Ecosystem are summarized."
   ]
  },
  {
   "cell_type": "markdown",
   "id": "7f719336-45b5-42fd-95b3-3d433d7a9e0a",
   "metadata": {},
   "source": [
    "**Objectives:**\n",
    "* List popular languages for data Science\n",
    "* Libraries used by Data Scientists\n",
    "* Table list of Data Science Tools\n",
    "* Examples of arithmetic expressions in python"
   ]
  },
  {
   "cell_type": "markdown",
   "id": "ac173905-6edb-4c34-bd9d-5814fc141526",
   "metadata": {},
   "source": [
    "### Some of the popular languages that Data Scientists use are:\n",
    "\n",
    "1. Python\n",
    "2. R\n",
    "3. SQL"
   ]
  },
  {
   "cell_type": "markdown",
   "id": "7b7adde4-9a59-47ca-bc84-700cd369dd80",
   "metadata": {},
   "source": [
    "### Some of the commonly used libraries used by Data Scientists include:"
   ]
  },
  {
   "cell_type": "markdown",
   "id": "46318b9f-7f9a-4f24-864f-68002206580c",
   "metadata": {},
   "source": [
    "1. Pandas\n",
    "2. Numpy\n",
    "3. Matplotlib\n",
    "4. Seaborn\n",
    "5. Scikit-learn\n",
    "6. Keras\n",
    "7. PyTorch\n",
    "8. Tensorflow"
   ]
  },
  {
   "cell_type": "markdown",
   "id": "ae35d29c-dea4-4b1b-97bb-9fd3856f3511",
   "metadata": {},
   "source": [
    "| Data Science Tools |\n",
    "| -------------------|\n",
    "| MySQL|\n",
    "| Apache Airflow |\n",
    "| Git |"
   ]
  },
  {
   "cell_type": "markdown",
   "id": "4cb1da7a-9ff8-465a-a14c-8a22319671d0",
   "metadata": {},
   "source": [
    "### Below are a few examples of evaluating arithmetic expressions in Python\n",
    "* 2+2\n",
    "* 3.5*2.5\n",
    "* 8-4"
   ]
  },
  {
   "cell_type": "code",
   "execution_count": 2,
   "id": "ab490917-03ab-4072-8ce1-5d5bb20601db",
   "metadata": {},
   "outputs": [
    {
     "data": {
      "text/plain": [
       "17"
      ]
     },
     "execution_count": 2,
     "metadata": {},
     "output_type": "execute_result"
    }
   ],
   "source": [
    "# This a simple arithmetic expression to mutiply then add integers\n",
    "(3*4)+5"
   ]
  },
  {
   "cell_type": "code",
   "execution_count": 5,
   "id": "76930ca8-6500-438a-b6e9-b82795699351",
   "metadata": {},
   "outputs": [
    {
     "name": "stdout",
     "output_type": "stream",
     "text": [
      "minutes 200 into 3 hours\n"
     ]
    }
   ],
   "source": [
    "# This will convert 200 minutes to hours by diving by 60\n",
    "minutes = 200\n",
    "hours = minutes //60\n",
    "print(f\"minutes {minutes} into {hours} hours\")"
   ]
  },
  {
   "cell_type": "markdown",
   "id": "c4386654-ef0d-4ab9-a374-fab226f8cb20",
   "metadata": {},
   "source": [
    "## Author\n",
    "Giselle E. Garcia San Juan"
   ]
  }
 ],
 "metadata": {
  "kernelspec": {
   "display_name": "Python 3 (ipykernel)",
   "language": "python",
   "name": "python3"
  },
  "language_info": {
   "codemirror_mode": {
    "name": "ipython",
    "version": 3
   },
   "file_extension": ".py",
   "mimetype": "text/x-python",
   "name": "python",
   "nbconvert_exporter": "python",
   "pygments_lexer": "ipython3",
   "version": "3.9.18"
  }
 },
 "nbformat": 4,
 "nbformat_minor": 5
}
